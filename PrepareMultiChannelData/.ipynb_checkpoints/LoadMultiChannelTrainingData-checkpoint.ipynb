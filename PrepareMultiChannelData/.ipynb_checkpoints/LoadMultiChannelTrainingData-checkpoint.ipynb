{
 "cells": [
  {
   "cell_type": "code",
   "execution_count": null,
   "metadata": {},
   "outputs": [],
   "source": [
    "import sys\n",
    "sys.path.insert(0, \"/data/u934/service_imagerie/v_kapoor/anaconda2/bin/CSBDeep/examples/CAREforCurie/HelperFunctions\")\n",
    "from __future__ import print_function, unicode_literals, absolute_import, division\n",
    "import numpy as np\n",
    "import matplotlib.pyplot as plt\n",
    "%matplotlib inline\n",
    "%config InlineBackend.figure_format = 'retina'\n",
    "import tensorflow\n",
    "from tifffile import imread\n",
    "from csbdeep.utils import download_and_extract_zip_file, plot_some\n",
    "from csbdeep.data import RawData, create_patches\n",
    "from selectrawdata import SelectRawData"
   ]
  },
  {
   "cell_type": "code",
   "execution_count": null,
   "metadata": {},
   "outputs": [],
   "source": [
    "raw_data = SelectRawData.from_folder (\n",
    "    basepath    = '/data/u934/service_imagerie/v_kapoor/CurieTrainingDatasets/Raw_Datasets/SilviaMouseModel/ModelClaudia/',\n",
    "    source_dirs = ['Low'],\n",
    "    target_dir  = 'GT',\n",
    "    axes        = 'ZYXC',\n",
    "    NumTrain = 1,\n",
    "    GenerateKeras= True\n",
    ")"
   ]
  },
  {
   "cell_type": "code",
   "execution_count": null,
   "metadata": {},
   "outputs": [],
   "source": [
    "#Split the channels, make raw_dataA, raw_dataB, raw_dataC "
   ]
  },
  {
   "cell_type": "code",
   "execution_count": null,
   "metadata": {},
   "outputs": [],
   "source": [
    "X, Y, XY_axes = create_patches (\n",
    "    raw_data            = raw_dataA,\n",
    "    patch_size          = (16,128,128),\n",
    "    n_patches_per_image = 256,\n",
    "    save_file           = '/data/u934/service_imagerie/v_kapoor/CurieTrainingDatasets/SilviaMouseModel/ClaudiaTrainCA.npz',\n",
    ")\n",
    "X, Y, XY_axes = create_patches (\n",
    "    raw_data            = raw_dataB,\n",
    "    patch_size          = (16,128,128),\n",
    "    n_patches_per_image = 256,\n",
    "    save_file           = '/data/u934/service_imagerie/v_kapoor/CurieTrainingDatasets/SilviaMouseModel/ClaudiaTrainCA.npz',\n",
    ")\n",
    "X, Y, XY_axes = create_patches (\n",
    "    raw_data            = raw_dataC,\n",
    "    patch_size          = (16,128,128),\n",
    "    n_patches_per_image = 256,\n",
    "    save_file           = '/data/u934/service_imagerie/v_kapoor/CurieTrainingDatasets/SilviaMouseModel/ClaudiaTrainCA.npz',\n",
    ")"
   ]
  }
 ],
 "metadata": {
  "kernelspec": {
   "display_name": "Python 3",
   "language": "python",
   "name": "python3"
  },
  "language_info": {
   "codemirror_mode": {
    "name": "ipython",
    "version": 3
   },
   "file_extension": ".py",
   "mimetype": "text/x-python",
   "name": "python",
   "nbconvert_exporter": "python",
   "pygments_lexer": "ipython3",
   "version": "3.7.1"
  }
 },
 "nbformat": 4,
 "nbformat_minor": 2
}
